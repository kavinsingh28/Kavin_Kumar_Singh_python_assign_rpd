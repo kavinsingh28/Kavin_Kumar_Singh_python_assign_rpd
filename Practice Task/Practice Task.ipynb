{
 "cells": [
  {
   "cell_type": "markdown",
   "id": "8daea1bb",
   "metadata": {},
   "source": [
    "# Importing the necessary libraries"
   ]
  },
  {
   "cell_type": "code",
   "execution_count": 1,
   "id": "ad15f491",
   "metadata": {},
   "outputs": [],
   "source": [
    "# Used for reading the content of the page\n",
    "import requests\n",
    "from bs4 import BeautifulSoup\n",
    "\n",
    "#Used for giving specific time to each process\n",
    "import time\n",
    "\n",
    "# used for automating the process\n",
    "import selenium\n",
    "import webdriver_manager\n",
    "from selenium.webdriver.common.keys import Keys\n",
    "from selenium import webdriver\n",
    "from webdriver_manager.chrome import ChromeDriverManager\n",
    "from selenium.webdriver.common.by import By"
   ]
  },
  {
   "cell_type": "markdown",
   "id": "4fb156e2",
   "metadata": {},
   "source": [
    "# Fetching the Content of the Website"
   ]
  },
  {
   "cell_type": "code",
   "execution_count": 2,
   "id": "d662b2cb",
   "metadata": {},
   "outputs": [],
   "source": [
    "headers = {\n",
    "    'Connection': 'keep-alive',\n",
    "    'sec-ch-ua': '\"Chromium\";v=\"94\", \"Microsoft Edge\";v=\"94\", \";Not A Brand\";v=\"99\"',\n",
    "    'Accept': '*/*',\n",
    "    'Content-Type': 'multipart/form-data; boundary=----WebKitFormBoundaryqz5TWISLte4f8lAT',\n",
    "    'X-Requested-With': 'XMLHttpRequest',\n",
    "    'sec-ch-ua-mobile': '?0',\n",
    "    'User-Agent': 'Mozilla/5.0 (Windows NT 10.0; Win64; x64) AppleWebKit/537.36 (KHTML, like Gecko) Chrome/94.0.4606.71 Safari/537.36 Edg/94.0.992.38',\n",
    "    'sec-ch-ua-platform': '\"Windows\"',\n",
    "    'Origin': 'https://screener-api.zacks.com',\n",
    "    'Sec-Fetch-Site': 'same-origin',\n",
    "    'Sec-Fetch-Mode': 'cors',\n",
    "    'Sec-Fetch-Dest': 'empty',\n",
    "    'Referer': 'https://screener-api.zacks.com/?scr_type=stock&c_id=zacks&c_key=0675466c5b74cfac34f6be7dc37d4fe6a008e212e2ef73bdcd7e9f1f9a9bd377&ref=screening',\n",
    "    'Accept-Language': 'en-US,en;q=0.9',\n",
    "}\n",
    "\n",
    "\n",
    "data = {\n",
    "  '------WebKitFormBoundaryqz5TWISLte4f8lAT\\r\\nContent-Disposition: form-data; name': '\"username\"\\r\\n\\r\\nlaboc57506@ampswipe.com\\r\\n------WebKitFormBoundaryqz5TWISLte4f8lAT\\r\\nContent-Disposition: form-data; name=\"password\"\\r\\n\\r\\nmsJ$eb8EJu72@Bj \\r\\n------WebKitFormBoundaryqz5TWISLte4f8lAT--'\n",
    "}\n",
    "\n",
    "with requests.Session() as s:\n",
    "    page1=s.post('https://www.zacks.com/screening/stock-screener?icid=screening-screening-nav_tracking-zcom-main_menu_wrapper-stock_screener',data=data,headers=headers)\n",
    "    soup1 = BeautifulSoup(page1.content,\"html.parser\")"
   ]
  },
  {
   "cell_type": "markdown",
   "id": "88379e1a",
   "metadata": {},
   "source": [
    "# Selecting the Required iframe Value"
   ]
  },
  {
   "cell_type": "code",
   "execution_count": 3,
   "id": "335f4519",
   "metadata": {},
   "outputs": [],
   "source": [
    "url2=soup1.find(\"iframe\")['src']"
   ]
  },
  {
   "cell_type": "markdown",
   "id": "114e46dc",
   "metadata": {},
   "source": [
    "# Automating the Chrome browser to perform operations "
   ]
  },
  {
   "cell_type": "code",
   "execution_count": 4,
   "id": "8dbd5cb4",
   "metadata": {},
   "outputs": [
    {
     "name": "stderr",
     "output_type": "stream",
     "text": [
      "[WDM] - \n",
      "\n",
      "[WDM] - ====== WebDriver manager ======\n",
      "[WDM] - Current google-chrome version is 94.0.4606\n",
      "[WDM] - Get LATEST driver version for 94.0.4606\n",
      "[WDM] - Driver [C:\\Users\\kavin\\.wdm\\drivers\\chromedriver\\win32\\94.0.4606.61\\chromedriver.exe] found in cache\n"
     ]
    }
   ],
   "source": [
    "#Making the connectivity with Chrome\n",
    "browser=webdriver.Chrome(ChromeDriverManager().install())\n",
    "\n",
    "#Moving to the my screen tab on the page\n",
    "browser.get(url2)\n",
    "browser.find_elements(By.ID, 'my-screen-tab')[0].click()\n",
    "\n",
    "#after 3 seconds using credentials to login to the page\n",
    "time.sleep(3)\n",
    "u = browser.find_element(By.ID,'username')\n",
    "u.send_keys('laboc57506@ampswipe.com')\n",
    "p = browser.find_element(By.ID,'password')\n",
    "p.send_keys('msJ$eb8EJu72@Bj')\n",
    "u.send_keys(Keys.RETURN)\n",
    "\n",
    "#after 3 more seconds pressing the required buttons\n",
    "time.sleep(3)\n",
    "browser.find_elements(By.ID, 'btn_run_162817')[0].click()\n",
    "time.sleep(3)\n",
    "browser.find_elements(By.ID, 'select_all_tickers')[0].click()\n",
    "browser.find_element_by_css_selector(\".buttons-csv\").click()\n",
    "\n",
    "#at last after 5 seconds closing the browser automatically\n",
    "time.sleep(5)\n",
    "browser.quit()"
   ]
  },
  {
   "cell_type": "code",
   "execution_count": null,
   "id": "bb822537",
   "metadata": {},
   "outputs": [],
   "source": []
  }
 ],
 "metadata": {
  "kernelspec": {
   "display_name": "Python 3",
   "language": "python",
   "name": "python3"
  },
  "language_info": {
   "codemirror_mode": {
    "name": "ipython",
    "version": 3
   },
   "file_extension": ".py",
   "mimetype": "text/x-python",
   "name": "python",
   "nbconvert_exporter": "python",
   "pygments_lexer": "ipython3",
   "version": "3.9.5"
  }
 },
 "nbformat": 4,
 "nbformat_minor": 5
}
