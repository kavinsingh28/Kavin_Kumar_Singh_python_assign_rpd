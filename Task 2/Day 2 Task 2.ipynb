{
 "cells": [
  {
   "cell_type": "markdown",
   "id": "eed9374b",
   "metadata": {},
   "source": [
    "# Importing Necessary Libraries and reading the csv data"
   ]
  },
  {
   "cell_type": "code",
   "execution_count": null,
   "id": "4a3c610a",
   "metadata": {},
   "outputs": [],
   "source": [
    "import pandas as pd\n",
    "import MySQLdb as mysql"
   ]
  },
  {
   "cell_type": "code",
   "execution_count": 38,
   "id": "96ba5d81",
   "metadata": {},
   "outputs": [],
   "source": [
    "df=pd.read_csv(\"email_1k.csv\",names=[\"Emails\",\"ID\"])"
   ]
  },
  {
   "cell_type": "markdown",
   "id": "08399563",
   "metadata": {},
   "source": [
    "# Fetching the data and applying operations and saving to domains.csv"
   ]
  },
  {
   "cell_type": "code",
   "execution_count": 39,
   "id": "79ccd2f6",
   "metadata": {},
   "outputs": [
    {
     "data": {
      "text/html": [
       "<div>\n",
       "<style scoped>\n",
       "    .dataframe tbody tr th:only-of-type {\n",
       "        vertical-align: middle;\n",
       "    }\n",
       "\n",
       "    .dataframe tbody tr th {\n",
       "        vertical-align: top;\n",
       "    }\n",
       "\n",
       "    .dataframe thead th {\n",
       "        text-align: right;\n",
       "    }\n",
       "</style>\n",
       "<table border=\"1\" class=\"dataframe\">\n",
       "  <thead>\n",
       "    <tr style=\"text-align: right;\">\n",
       "      <th></th>\n",
       "      <th>domain</th>\n",
       "      <th>domain_id</th>\n",
       "      <th>email_counts</th>\n",
       "    </tr>\n",
       "  </thead>\n",
       "  <tbody>\n",
       "    <tr>\n",
       "      <th>0</th>\n",
       "      <td>icloud.com</td>\n",
       "      <td>0</td>\n",
       "      <td>1</td>\n",
       "    </tr>\n",
       "    <tr>\n",
       "      <th>1</th>\n",
       "      <td>jmplating.com</td>\n",
       "      <td>1</td>\n",
       "      <td>1</td>\n",
       "    </tr>\n",
       "    <tr>\n",
       "      <th>2</th>\n",
       "      <td>wightman.ca</td>\n",
       "      <td>2</td>\n",
       "      <td>1</td>\n",
       "    </tr>\n",
       "    <tr>\n",
       "      <th>3</th>\n",
       "      <td>totalise.co.uk</td>\n",
       "      <td>3</td>\n",
       "      <td>1</td>\n",
       "    </tr>\n",
       "    <tr>\n",
       "      <th>4</th>\n",
       "      <td>telenet.be</td>\n",
       "      <td>4</td>\n",
       "      <td>1</td>\n",
       "    </tr>\n",
       "  </tbody>\n",
       "</table>\n",
       "</div>"
      ],
      "text/plain": [
       "           domain  domain_id  email_counts\n",
       "0      icloud.com          0             1\n",
       "1   jmplating.com          1             1\n",
       "2     wightman.ca          2             1\n",
       "3  totalise.co.uk          3             1\n",
       "4      telenet.be          4             1"
      ]
     },
     "execution_count": 39,
     "metadata": {},
     "output_type": "execute_result"
    }
   ],
   "source": [
    "k=df['Emails'].apply(lambda x: x.split('@'))\n",
    "dnms=[dn[-1] for dn in k if len(dn)>1]\n",
    "l2=[i for i in range(len(set(dnms)))]\n",
    "l1=[]\n",
    "l3=[]\n",
    "for r in set(dnms):\n",
    "    l1.append(r)\n",
    "    l3.append(dnms.count(r))\n",
    "d = {\"domain\":l1,\"domain_id\":l2,\"email_counts\":l3}\n",
    "df2 = pd.DataFrame(data=d)\n",
    "df2.to_csv('domains.csv',index=False)\n",
    "\n",
    "df2.head()"
   ]
  },
  {
   "cell_type": "markdown",
   "id": "884a3a93",
   "metadata": {},
   "source": [
    "# Applying operations and saving to email_domain_data.csv"
   ]
  },
  {
   "cell_type": "code",
   "execution_count": 40,
   "id": "276f6ace",
   "metadata": {},
   "outputs": [
    {
     "data": {
      "text/html": [
       "<div>\n",
       "<style scoped>\n",
       "    .dataframe tbody tr th:only-of-type {\n",
       "        vertical-align: middle;\n",
       "    }\n",
       "\n",
       "    .dataframe tbody tr th {\n",
       "        vertical-align: top;\n",
       "    }\n",
       "\n",
       "    .dataframe thead th {\n",
       "        text-align: right;\n",
       "    }\n",
       "</style>\n",
       "<table border=\"1\" class=\"dataframe\">\n",
       "  <thead>\n",
       "    <tr style=\"text-align: right;\">\n",
       "      <th></th>\n",
       "      <th>email</th>\n",
       "      <th>id_email</th>\n",
       "      <th>domain</th>\n",
       "      <th>domain_id</th>\n",
       "    </tr>\n",
       "  </thead>\n",
       "  <tbody>\n",
       "    <tr>\n",
       "      <th>0</th>\n",
       "      <td>bennyb@fun-center.com</td>\n",
       "      <td>76217750</td>\n",
       "      <td>fun-center.com</td>\n",
       "      <td>20</td>\n",
       "    </tr>\n",
       "    <tr>\n",
       "      <th>1</th>\n",
       "      <td>bennyb@getgds.com</td>\n",
       "      <td>76217751</td>\n",
       "      <td>getgds.com</td>\n",
       "      <td>32</td>\n",
       "    </tr>\n",
       "    <tr>\n",
       "      <th>2</th>\n",
       "      <td>bennyb@gmail.com</td>\n",
       "      <td>76217752</td>\n",
       "      <td>gmail.com</td>\n",
       "      <td>82</td>\n",
       "    </tr>\n",
       "    <tr>\n",
       "      <th>3</th>\n",
       "      <td>bennyb@gosselingroup.eu</td>\n",
       "      <td>76217753</td>\n",
       "      <td>gosselingroup.eu</td>\n",
       "      <td>59</td>\n",
       "    </tr>\n",
       "    <tr>\n",
       "      <th>4</th>\n",
       "      <td>bennyb@hotmail.com</td>\n",
       "      <td>76217754</td>\n",
       "      <td>hotmail.com</td>\n",
       "      <td>110</td>\n",
       "    </tr>\n",
       "  </tbody>\n",
       "</table>\n",
       "</div>"
      ],
      "text/plain": [
       "                     email  id_email            domain  domain_id\n",
       "0    bennyb@fun-center.com  76217750    fun-center.com         20\n",
       "1        bennyb@getgds.com  76217751        getgds.com         32\n",
       "2         bennyb@gmail.com  76217752         gmail.com         82\n",
       "3  bennyb@gosselingroup.eu  76217753  gosselingroup.eu         59\n",
       "4       bennyb@hotmail.com  76217754       hotmail.com        110"
      ]
     },
     "execution_count": 40,
     "metadata": {},
     "output_type": "execute_result"
    }
   ],
   "source": [
    "D={}\n",
    "for i,j in zip(d['domain'],d['domain_id']):\n",
    "    D[i]=j\n",
    "email=[]\n",
    "id_email=[]\n",
    "domain=[]\n",
    "domain_id=[]\n",
    "\n",
    "for a,b in zip(df['Emails'].apply(lambda x: x.split('@')),df[\"ID\"]):\n",
    "    if len(a)>1:\n",
    "        email.append(\"@\".join(a))\n",
    "        id_email.append(b)\n",
    "        domain.append(a[-1])\n",
    "\n",
    "for i in domain:\n",
    "    domain_id.append(D[i])\n",
    "e = {\"email\":email,\"id_email\":id_email,\"domain\":domain,\"domain_id\":domain_id}\n",
    "df3 = pd.DataFrame(data=e)\n",
    "df3.to_csv('email_domain_data.csv',index=False)\n",
    "df3.head()"
   ]
  },
  {
   "cell_type": "markdown",
   "id": "267bc0d8",
   "metadata": {},
   "source": [
    "# Making the connection with mysql and uploading the data"
   ]
  },
  {
   "cell_type": "code",
   "execution_count": null,
   "id": "5fe319b2",
   "metadata": {},
   "outputs": [],
   "source": [
    "conn = mysql.connect(host='localhost',database='Task2',user='root',password='admin')\n",
    "cursor = conn.cursor()\n",
    "cursor.execute('DROP TABLE IF EXISTS Kavin_domain_data;')\n",
    "cursor.execute('DROP TABLE IF EXISTS Kavin_email_domain_data;')\n",
    "cursor.execute(\"CREATE TABLE Kavin_domain_data (domain VARCHAR(30) NOT NULL, domain_id INT NOT NULL, email_counts INT NOT NULL, PRIMARY KEY(domain_id));\")\n",
    "cursor.execute(\"CREATE TABLE Kavin_email_domain_data (email VARCHAR(50) NOT NULL, id_email INT NOT NULL, domain VARCHAR(30) NOT NULL, domain_id INT NOT NULL ,PRIMARY KEY(id_email));\") \n",
    "\n",
    "\n",
    "# #Uploading the data in table 1 Kavin_domain_data\n",
    "\n",
    "for i in zip(df2['domain'],df2['domain_id'],df2['email_counts']):\n",
    "    query = 'INSERT INTO Kavin_domain_data (domain,domain_id,email_counts) VALUES'\n",
    "    q=query+str(i)+';'\n",
    "    cursor.execute(q)\n",
    "    conn.commit()\n",
    "\n",
    "# #Uploading the data in table 1 Kavin_email_domain_data    \n",
    "    \n",
    "for j in zip(df3['email'],df3['id_email'],df3['domain'],df3['domain_id']):\n",
    "    query = \"INSERT INTO Kavin_email_domain_data (email,id_email,domain,domain_id) VALUES\"\n",
    "    q=query+str(j)+';'\n",
    "    cursor.execute(q)\n",
    "    conn.commit()\n",
    "print(\"All REcord Inserted successfully\")"
   ]
  },
  {
   "cell_type": "code",
   "execution_count": null,
   "id": "44906506",
   "metadata": {},
   "outputs": [],
   "source": []
  }
 ],
 "metadata": {
  "kernelspec": {
   "display_name": "Python 3",
   "language": "python",
   "name": "python3"
  },
  "language_info": {
   "codemirror_mode": {
    "name": "ipython",
    "version": 3
   },
   "file_extension": ".py",
   "mimetype": "text/x-python",
   "name": "python",
   "nbconvert_exporter": "python",
   "pygments_lexer": "ipython3",
   "version": "3.9.5"
  }
 },
 "nbformat": 4,
 "nbformat_minor": 5
}
