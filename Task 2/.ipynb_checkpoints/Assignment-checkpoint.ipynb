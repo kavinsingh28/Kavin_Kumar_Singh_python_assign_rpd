{
 "cells": [
  {
   "cell_type": "markdown",
   "id": "57607bed",
   "metadata": {},
   "source": [
    "# Importing all the necessary libraries"
   ]
  },
  {
   "cell_type": "code",
   "execution_count": 2,
   "id": "c1f3d3f5",
   "metadata": {},
   "outputs": [],
   "source": [
    "# matplotlib and seaborn for plotting the correlation matrix\n",
    "import matplotlib.pyplot as mp\n",
    "import seaborn as sb\n",
    "\n",
    "\n",
    "# pandas to read and write to/from csv\n",
    "import pandas as pd\n",
    "\n",
    "\n",
    "# mysql to make the connectivity with database\n",
    "import MySQLdb as mysql"
   ]
  },
  {
   "cell_type": "markdown",
   "id": "60530b43",
   "metadata": {},
   "source": [
    "# 1) Reading the CSV using pandas"
   ]
  },
  {
   "cell_type": "code",
   "execution_count": 3,
   "id": "1f2f8791",
   "metadata": {},
   "outputs": [],
   "source": [
    "url='https://drive.google.com/file/d/1EHOEilpF4yCBnfCW9Oc1y_ECz65KLQLJ/view?usp=sharing'\n",
    "url2='https://drive.google.com/uc?id=' + url.split('/')[-2]\n",
    "df = pd.read_csv(url2)"
   ]
  },
  {
   "cell_type": "code",
   "execution_count": 6,
   "id": "7966e0a7",
   "metadata": {},
   "outputs": [
    {
     "data": {
      "text/html": [
       "<div>\n",
       "<style scoped>\n",
       "    .dataframe tbody tr th:only-of-type {\n",
       "        vertical-align: middle;\n",
       "    }\n",
       "\n",
       "    .dataframe tbody tr th {\n",
       "        vertical-align: top;\n",
       "    }\n",
       "\n",
       "    .dataframe thead th {\n",
       "        text-align: right;\n",
       "    }\n",
       "</style>\n",
       "<table border=\"1\" class=\"dataframe\">\n",
       "  <thead>\n",
       "    <tr style=\"text-align: right;\">\n",
       "      <th></th>\n",
       "      <th>date</th>\n",
       "      <th>high</th>\n",
       "      <th>low</th>\n",
       "      <th>Close Price</th>\n",
       "      <th>trade</th>\n",
       "      <th>turnover_in_lakhs</th>\n",
       "      <th>contracts</th>\n",
       "      <th>difference</th>\n",
       "    </tr>\n",
       "  </thead>\n",
       "  <tbody>\n",
       "    <tr>\n",
       "      <th>0</th>\n",
       "      <td>01-Jan-2021</td>\n",
       "      <td>1443.00</td>\n",
       "      <td>1420.60</td>\n",
       "      <td>1425.05</td>\n",
       "      <td>4405469</td>\n",
       "      <td>63155.334220</td>\n",
       "      <td>24302</td>\n",
       "      <td>NaN</td>\n",
       "    </tr>\n",
       "    <tr>\n",
       "      <th>1</th>\n",
       "      <td>04-Jan-2021</td>\n",
       "      <td>1438.00</td>\n",
       "      <td>1399.00</td>\n",
       "      <td>1416.00</td>\n",
       "      <td>7870096</td>\n",
       "      <td>111534.732817</td>\n",
       "      <td>40233</td>\n",
       "      <td>NaN</td>\n",
       "    </tr>\n",
       "    <tr>\n",
       "      <th>2</th>\n",
       "      <td>05-Jan-2021</td>\n",
       "      <td>1430.75</td>\n",
       "      <td>1409.00</td>\n",
       "      <td>1426.70</td>\n",
       "      <td>7193412</td>\n",
       "      <td>102141.606024</td>\n",
       "      <td>49022</td>\n",
       "      <td>NaN</td>\n",
       "    </tr>\n",
       "    <tr>\n",
       "      <th>3</th>\n",
       "      <td>06-Jan-2021</td>\n",
       "      <td>1440.00</td>\n",
       "      <td>1413.10</td>\n",
       "      <td>1420.55</td>\n",
       "      <td>11067025</td>\n",
       "      <td>157545.110102</td>\n",
       "      <td>62408</td>\n",
       "      <td>NaN</td>\n",
       "    </tr>\n",
       "    <tr>\n",
       "      <th>4</th>\n",
       "      <td>07-Jan-2021</td>\n",
       "      <td>1432.60</td>\n",
       "      <td>1412.55</td>\n",
       "      <td>1416.25</td>\n",
       "      <td>9947421</td>\n",
       "      <td>141486.233112</td>\n",
       "      <td>47083</td>\n",
       "      <td>NaN</td>\n",
       "    </tr>\n",
       "  </tbody>\n",
       "</table>\n",
       "</div>"
      ],
      "text/plain": [
       "          date     high      low  Close Price     trade  turnover_in_lakhs  \\\n",
       "0  01-Jan-2021  1443.00  1420.60      1425.05   4405469       63155.334220   \n",
       "1  04-Jan-2021  1438.00  1399.00      1416.00   7870096      111534.732817   \n",
       "2  05-Jan-2021  1430.75  1409.00      1426.70   7193412      102141.606024   \n",
       "3  06-Jan-2021  1440.00  1413.10      1420.55  11067025      157545.110102   \n",
       "4  07-Jan-2021  1432.60  1412.55      1416.25   9947421      141486.233112   \n",
       "\n",
       "   contracts  difference  \n",
       "0      24302         NaN  \n",
       "1      40233         NaN  \n",
       "2      49022         NaN  \n",
       "3      62408         NaN  \n",
       "4      47083         NaN  "
      ]
     },
     "execution_count": 6,
     "metadata": {},
     "output_type": "execute_result"
    }
   ],
   "source": [
    "# display the top 5 rows\n",
    "df.head()"
   ]
  },
  {
   "cell_type": "markdown",
   "id": "920c8a10",
   "metadata": {},
   "source": [
    "# 2) Renaming the columns "
   ]
  },
  {
   "cell_type": "code",
   "execution_count": 7,
   "id": "55cfe763",
   "metadata": {},
   "outputs": [],
   "source": [
    "df.columns=['date', 'high', 'low', 'Close Price', 'trade', 'turnover_in_lakhs', 'contracts', 'difference']"
   ]
  },
  {
   "cell_type": "code",
   "execution_count": 8,
   "id": "56c40e9a",
   "metadata": {},
   "outputs": [
    {
     "data": {
      "text/html": [
       "<div>\n",
       "<style scoped>\n",
       "    .dataframe tbody tr th:only-of-type {\n",
       "        vertical-align: middle;\n",
       "    }\n",
       "\n",
       "    .dataframe tbody tr th {\n",
       "        vertical-align: top;\n",
       "    }\n",
       "\n",
       "    .dataframe thead th {\n",
       "        text-align: right;\n",
       "    }\n",
       "</style>\n",
       "<table border=\"1\" class=\"dataframe\">\n",
       "  <thead>\n",
       "    <tr style=\"text-align: right;\">\n",
       "      <th></th>\n",
       "      <th>date</th>\n",
       "      <th>high</th>\n",
       "      <th>low</th>\n",
       "      <th>Close Price</th>\n",
       "      <th>trade</th>\n",
       "      <th>turnover_in_lakhs</th>\n",
       "      <th>contracts</th>\n",
       "      <th>difference</th>\n",
       "    </tr>\n",
       "  </thead>\n",
       "  <tbody>\n",
       "    <tr>\n",
       "      <th>0</th>\n",
       "      <td>01-Jan-2021</td>\n",
       "      <td>1443.00</td>\n",
       "      <td>1420.60</td>\n",
       "      <td>1425.05</td>\n",
       "      <td>4405469</td>\n",
       "      <td>63155.334220</td>\n",
       "      <td>24302</td>\n",
       "      <td>NaN</td>\n",
       "    </tr>\n",
       "    <tr>\n",
       "      <th>1</th>\n",
       "      <td>04-Jan-2021</td>\n",
       "      <td>1438.00</td>\n",
       "      <td>1399.00</td>\n",
       "      <td>1416.00</td>\n",
       "      <td>7870096</td>\n",
       "      <td>111534.732817</td>\n",
       "      <td>40233</td>\n",
       "      <td>NaN</td>\n",
       "    </tr>\n",
       "    <tr>\n",
       "      <th>2</th>\n",
       "      <td>05-Jan-2021</td>\n",
       "      <td>1430.75</td>\n",
       "      <td>1409.00</td>\n",
       "      <td>1426.70</td>\n",
       "      <td>7193412</td>\n",
       "      <td>102141.606024</td>\n",
       "      <td>49022</td>\n",
       "      <td>NaN</td>\n",
       "    </tr>\n",
       "    <tr>\n",
       "      <th>3</th>\n",
       "      <td>06-Jan-2021</td>\n",
       "      <td>1440.00</td>\n",
       "      <td>1413.10</td>\n",
       "      <td>1420.55</td>\n",
       "      <td>11067025</td>\n",
       "      <td>157545.110102</td>\n",
       "      <td>62408</td>\n",
       "      <td>NaN</td>\n",
       "    </tr>\n",
       "    <tr>\n",
       "      <th>4</th>\n",
       "      <td>07-Jan-2021</td>\n",
       "      <td>1432.60</td>\n",
       "      <td>1412.55</td>\n",
       "      <td>1416.25</td>\n",
       "      <td>9947421</td>\n",
       "      <td>141486.233112</td>\n",
       "      <td>47083</td>\n",
       "      <td>NaN</td>\n",
       "    </tr>\n",
       "  </tbody>\n",
       "</table>\n",
       "</div>"
      ],
      "text/plain": [
       "          date     high      low  Close Price     trade  turnover_in_lakhs  \\\n",
       "0  01-Jan-2021  1443.00  1420.60      1425.05   4405469       63155.334220   \n",
       "1  04-Jan-2021  1438.00  1399.00      1416.00   7870096      111534.732817   \n",
       "2  05-Jan-2021  1430.75  1409.00      1426.70   7193412      102141.606024   \n",
       "3  06-Jan-2021  1440.00  1413.10      1420.55  11067025      157545.110102   \n",
       "4  07-Jan-2021  1432.60  1412.55      1416.25   9947421      141486.233112   \n",
       "\n",
       "   contracts  difference  \n",
       "0      24302         NaN  \n",
       "1      40233         NaN  \n",
       "2      49022         NaN  \n",
       "3      62408         NaN  \n",
       "4      47083         NaN  "
      ]
     },
     "execution_count": 8,
     "metadata": {},
     "output_type": "execute_result"
    }
   ],
   "source": [
    "#displaying columns after renaming \n",
    "df.head()"
   ]
  },
  {
   "cell_type": "markdown",
   "id": "fd09fda4",
   "metadata": {},
   "source": [
    "# 3) Inserting the values in the difference colunns"
   ]
  },
  {
   "cell_type": "code",
   "execution_count": 9,
   "id": "c4ac1b1f",
   "metadata": {},
   "outputs": [],
   "source": [
    "df.difference=df.high-df.low"
   ]
  },
  {
   "cell_type": "code",
   "execution_count": 10,
   "id": "804856b9",
   "metadata": {},
   "outputs": [
    {
     "data": {
      "text/html": [
       "<div>\n",
       "<style scoped>\n",
       "    .dataframe tbody tr th:only-of-type {\n",
       "        vertical-align: middle;\n",
       "    }\n",
       "\n",
       "    .dataframe tbody tr th {\n",
       "        vertical-align: top;\n",
       "    }\n",
       "\n",
       "    .dataframe thead th {\n",
       "        text-align: right;\n",
       "    }\n",
       "</style>\n",
       "<table border=\"1\" class=\"dataframe\">\n",
       "  <thead>\n",
       "    <tr style=\"text-align: right;\">\n",
       "      <th></th>\n",
       "      <th>date</th>\n",
       "      <th>high</th>\n",
       "      <th>low</th>\n",
       "      <th>Close Price</th>\n",
       "      <th>trade</th>\n",
       "      <th>turnover_in_lakhs</th>\n",
       "      <th>contracts</th>\n",
       "      <th>difference</th>\n",
       "    </tr>\n",
       "  </thead>\n",
       "  <tbody>\n",
       "    <tr>\n",
       "      <th>0</th>\n",
       "      <td>01-Jan-2021</td>\n",
       "      <td>1443.00</td>\n",
       "      <td>1420.60</td>\n",
       "      <td>1425.05</td>\n",
       "      <td>4405469</td>\n",
       "      <td>63155.334220</td>\n",
       "      <td>24302</td>\n",
       "      <td>22.40</td>\n",
       "    </tr>\n",
       "    <tr>\n",
       "      <th>1</th>\n",
       "      <td>04-Jan-2021</td>\n",
       "      <td>1438.00</td>\n",
       "      <td>1399.00</td>\n",
       "      <td>1416.00</td>\n",
       "      <td>7870096</td>\n",
       "      <td>111534.732817</td>\n",
       "      <td>40233</td>\n",
       "      <td>39.00</td>\n",
       "    </tr>\n",
       "    <tr>\n",
       "      <th>2</th>\n",
       "      <td>05-Jan-2021</td>\n",
       "      <td>1430.75</td>\n",
       "      <td>1409.00</td>\n",
       "      <td>1426.70</td>\n",
       "      <td>7193412</td>\n",
       "      <td>102141.606024</td>\n",
       "      <td>49022</td>\n",
       "      <td>21.75</td>\n",
       "    </tr>\n",
       "    <tr>\n",
       "      <th>3</th>\n",
       "      <td>06-Jan-2021</td>\n",
       "      <td>1440.00</td>\n",
       "      <td>1413.10</td>\n",
       "      <td>1420.55</td>\n",
       "      <td>11067025</td>\n",
       "      <td>157545.110102</td>\n",
       "      <td>62408</td>\n",
       "      <td>26.90</td>\n",
       "    </tr>\n",
       "    <tr>\n",
       "      <th>4</th>\n",
       "      <td>07-Jan-2021</td>\n",
       "      <td>1432.60</td>\n",
       "      <td>1412.55</td>\n",
       "      <td>1416.25</td>\n",
       "      <td>9947421</td>\n",
       "      <td>141486.233112</td>\n",
       "      <td>47083</td>\n",
       "      <td>20.05</td>\n",
       "    </tr>\n",
       "  </tbody>\n",
       "</table>\n",
       "</div>"
      ],
      "text/plain": [
       "          date     high      low  Close Price     trade  turnover_in_lakhs  \\\n",
       "0  01-Jan-2021  1443.00  1420.60      1425.05   4405469       63155.334220   \n",
       "1  04-Jan-2021  1438.00  1399.00      1416.00   7870096      111534.732817   \n",
       "2  05-Jan-2021  1430.75  1409.00      1426.70   7193412      102141.606024   \n",
       "3  06-Jan-2021  1440.00  1413.10      1420.55  11067025      157545.110102   \n",
       "4  07-Jan-2021  1432.60  1412.55      1416.25   9947421      141486.233112   \n",
       "\n",
       "   contracts  difference  \n",
       "0      24302       22.40  \n",
       "1      40233       39.00  \n",
       "2      49022       21.75  \n",
       "3      62408       26.90  \n",
       "4      47083       20.05  "
      ]
     },
     "execution_count": 10,
     "metadata": {},
     "output_type": "execute_result"
    }
   ],
   "source": [
    "#Displaying the changes in the difference column\n",
    "df.head()"
   ]
  },
  {
   "cell_type": "markdown",
   "id": "1a7b05e5",
   "metadata": {},
   "source": [
    "# 4) Saving the data into processed_data.csv"
   ]
  },
  {
   "cell_type": "code",
   "execution_count": 11,
   "id": "309af55f",
   "metadata": {},
   "outputs": [],
   "source": [
    "df.to_csv('processed_data.csv',index=False)"
   ]
  },
  {
   "cell_type": "markdown",
   "id": "51f0f2da",
   "metadata": {},
   "source": [
    "# 5) Uploading the processed_data.csv into mysql database"
   ]
  },
  {
   "cell_type": "code",
   "execution_count": null,
   "id": "a5acfc20",
   "metadata": {},
   "outputs": [],
   "source": [
    "conn = mysql.connect(host='localhost', database='python_fin_test', user='root', password='111PythonFinTest###')\n",
    "cursor = conn.cursor()\n",
    "cursor.execute('DROP TABLE IF EXISTS processed_data;')\n",
    "cursor.execute(\"CREATE TABLE processed_data (date DATE NOT NULL, high FLOAT(6,2) NOT NULL, low FLOAT(6,2) NOT NULL,Close Price FLOAT(6,2) NOT NULL,trade INT NOT NULL, turnover_in_lakhs FLOAT NOT NULL, contracts INT NOT NULL, difference FLOAT(4,2) NOT NULL,PRIMARY KEY(date));\")\n",
    "        \n",
    "\n",
    "    \n",
    "for i in zip(df['date'],df['high'],df['low'],df['Close Price'],df['trade'],df['turnover_in_lakhs'],df['contracts'],df['difference']):\n",
    "    query = 'INSERT INTO Kavin_domain_data (domain,domain_id,email_counts) VALUES'\n",
    "    q=query+str(i)+';'\n",
    "    cursor.execute(q)\n",
    "    # the connection is not auto committed by default, so we must commit to save our changes\n",
    "    conn.commit()"
   ]
  },
  {
   "cell_type": "markdown",
   "id": "1abeaeba",
   "metadata": {},
   "source": [
    "# 6) Plotting the Correlation Matrix using processed_data.csv"
   ]
  },
  {
   "cell_type": "code",
   "execution_count": 63,
   "id": "93d00e5f",
   "metadata": {},
   "outputs": [
    {
     "data": {
      "image/png": "[encoded data removed]",
      "text/plain": [
       "<Figure size 432x288 with 2 Axes>"
      ]
     },
     "metadata": {
      "needs_background": "light"
     },
     "output_type": "display_data"
    }
   ],
   "source": [
    "# import file with data\n",
    "data = pd.read_csv(\"processed_data.csv\")\n",
    "\n",
    "# plotting correlation heatmap\n",
    "dataplot = sb.heatmap(data.corr(), cmap=\"YlGnBu\", annot=True)\n",
    "  \n",
    "# displaying heatmap\n",
    "mp.show()"
   ]
  }
 ],
 "metadata": {
  "kernelspec": {
   "display_name": "Python 3",
   "language": "python",
   "name": "python3"
  },
  "language_info": {
   "codemirror_mode": {
    "name": "ipython",
    "version": 3
   },
   "file_extension": ".py",
   "mimetype": "text/x-python",
   "name": "python",
   "nbconvert_exporter": "python",
   "pygments_lexer": "ipython3",
   "version": "3.9.5"
  }
 },
 "nbformat": 4,
 "nbformat_minor": 5
}
